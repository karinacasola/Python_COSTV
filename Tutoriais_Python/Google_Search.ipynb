{
  "nbformat": 4,
  "nbformat_minor": 0,
  "metadata": {
    "colab": {
      "name": "Google Search.ipynb",
      "provenance": [],
      "authorship_tag": "ABX9TyM9DH1QHxWBrSa/vj91LU/G",
      "include_colab_link": true
    },
    "kernelspec": {
      "name": "python3",
      "display_name": "Python 3"
    }
  },
  "cells": [
    {
      "cell_type": "markdown",
      "metadata": {
        "id": "view-in-github",
        "colab_type": "text"
      },
      "source": [
        "<a href=\"https://colab.research.google.com/github/karinacasola/Tutoriais_Python_COSTV/blob/master/Google_Search.ipynb\" target=\"_parent\"><img src=\"https://colab.research.google.com/assets/colab-badge.svg\" alt=\"Open In Colab\"/></a>"
      ]
    },
    {
      "cell_type": "markdown",
      "metadata": {
        "id": "4IMUemV8qVwm"
      },
      "source": [
        "Instalação do módulo Google - nota: use sempre o ! antes do pip aqui no Colab."
      ]
    },
    {
      "cell_type": "code",
      "metadata": {
        "id": "gZ8I-YkYqDG7",
        "colab": {
          "base_uri": "https://localhost:8080/",
          "height": 51
        },
        "outputId": "120ef91e-d29c-4a0d-f969-a9ee7d169616"
      },
      "source": [
        "!pip install google"
      ],
      "execution_count": null,
      "outputs": [
        {
          "output_type": "stream",
          "text": [
            "Requirement already satisfied: google in /usr/local/lib/python3.6/dist-packages (2.0.3)\n",
            "Requirement already satisfied: beautifulsoup4 in /usr/local/lib/python3.6/dist-packages (from google) (4.6.3)\n"
          ],
          "name": "stdout"
        }
      ]
    },
    {
      "cell_type": "markdown",
      "metadata": {
        "id": "Pxiu5WlZrJon"
      },
      "source": [
        "Importação da bibilioteca"
      ]
    },
    {
      "cell_type": "code",
      "metadata": {
        "id": "i3mBi8IwqUIh"
      },
      "source": [
        "from googlesearch import search"
      ],
      "execution_count": null,
      "outputs": []
    },
    {
      "cell_type": "code",
      "metadata": {
        "id": "9L-ygg89rM9Y"
      },
      "source": [
        "pesquisa=\"clima hoje\""
      ],
      "execution_count": null,
      "outputs": []
    },
    {
      "cell_type": "markdown",
      "metadata": {
        "id": "yjas53ljsd3Q"
      },
      "source": [
        "Passando como argumento a pesquisa e selecionando os parâmetros da função."
      ]
    },
    {
      "cell_type": "code",
      "metadata": {
        "id": "oy1j5OyjreuE",
        "colab": {
          "base_uri": "https://localhost:8080/",
          "height": 187
        },
        "outputId": "50273829-52e2-4a0a-eb69-789f052d6635"
      },
      "source": [
        "for i in search(pesquisa, tld='com',lang='pt-br',num=10,start=0, stop=10,pause=2):\n",
        "  print(i)"
      ],
      "execution_count": null,
      "outputs": [
        {
          "output_type": "stream",
          "text": [
            "https://www.climatempo.com.br/\n",
            "https://weather.com/pt-BR/clima/hoje/l/S%C3%A3o+Paulo+S%C3%A3o+Paulo?canonicalCityId=d7593e91d7e1447404d3a75fc1f7e0513bfcc5bdd74b81f6b4299f68b5689392\n",
            "https://g1.globo.com/previsao-do-tempo/\n",
            "https://globoplay.globo.com/v/7461352/\n",
            "https://freemeteo.com.br/clima/sao-paulo/previsao-por-hora/hoje/?gid=3448439&language=portuguesebr&country=brazil\n",
            "https://freemeteo.com.br/clima/manha/previsao-diaria/hoje/?gid=3457953&language=portuguesebr&country=brazil\n",
            "https://cv.freemeteo.com/clima/clinton/previsao-diaria/hoje/?gid=5096710&language=portuguesebr&country=us-united-states\n",
            "https://i-weather.com/clima/waterbury/previsao-diaria/hoje/?gid=5242565&language=portuguesebr&country=us-united-states\n",
            "https://www.msn.com/pt-br/clima\n",
            "https://ultimosegundo.ig.com.br/mundo/2019-09-27/greve-geral-pelo-clima-continua-hoje-em-mais-de-150-paises-do-mundo.html\n"
          ],
          "name": "stdout"
        }
      ]
    }
  ]
}