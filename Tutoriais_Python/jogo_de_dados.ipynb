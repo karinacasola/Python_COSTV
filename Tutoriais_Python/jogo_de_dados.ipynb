{
 "cells": [
  {
   "cell_type": "code",
   "execution_count": 1,
   "metadata": {},
   "outputs": [],
   "source": [
    "import random\n",
    "from tkinter import*"
   ]
  },
  {
   "cell_type": "code",
   "execution_count": 5,
   "metadata": {},
   "outputs": [],
   "source": [
    "class jogar_os_dados(object):\n",
    "    def __init__(self, mestre):\n",
    "        quadro=Frame(mestre)\n",
    "        quadro.pack()\n",
    "        \n",
    "        self.label=Label(mestre, font=(\"times\",200))\n",
    "        botao=Button(mestre, text=\"Jogue os dados!\", command=self.rolar)\n",
    "        botao.place(x=200, y=0)\n",
    "        \n",
    "    def rolar(self):\n",
    "        simbolos=[\"\\u2680\", \"\\u2681\", \"\\u2682\", \"\\u2683\", \"\\u2684\", \"\\u2685\"]\n",
    "        self.label.config(text=f\"{random.choice(simbolos)}{random.choice(simbolos)}\")\n",
    "        self.label.pack()\n",
    "\n",
    "if __name__=='__main__': \n",
    "    inicio=Tk()\n",
    "    inicio.title(\"Jogar os dados\")\n",
    "    inicio.geometry(\"500x300\")\n",
    "    jogar_os_dados(inicio)\n",
    "    inicio.mainloop()"
   ]
  }
 ],
 "metadata": {
  "kernelspec": {
   "display_name": "Python 3",
   "language": "python",
   "name": "python3"
  },
  "language_info": {
   "codemirror_mode": {
    "name": "ipython",
    "version": 3
   },
   "file_extension": ".py",
   "mimetype": "text/x-python",
   "name": "python",
   "nbconvert_exporter": "python",
   "pygments_lexer": "ipython3",
   "version": "3.7.4"
  }
 },
 "nbformat": 4,
 "nbformat_minor": 2
}
