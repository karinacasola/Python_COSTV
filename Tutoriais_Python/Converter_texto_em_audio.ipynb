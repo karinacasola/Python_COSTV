{
  "nbformat": 4,
  "nbformat_minor": 0,
  "metadata": {
    "colab": {
      "name": "Converter_texto_em_audio.ipynb",
      "provenance": [],
      "collapsed_sections": [],
      "authorship_tag": "ABX9TyMdP5nuT9AEfq8khhNN/BLX",
      "include_colab_link": true
    },
    "kernelspec": {
      "name": "python3",
      "display_name": "Python 3"
    }
  },
  "cells": [
    {
      "cell_type": "markdown",
      "metadata": {
        "id": "view-in-github",
        "colab_type": "text"
      },
      "source": [
        "<a href=\"https://colab.research.google.com/github/karinacasola/Tutoriais_Python_COSTV/blob/master/Converter_texto_em_audio.ipynb\" target=\"_parent\"><img src=\"https://colab.research.google.com/assets/colab-badge.svg\" alt=\"Open In Colab\"/></a>"
      ]
    },
    {
      "cell_type": "code",
      "metadata": {
        "id": "fEvlq7V1GGF1",
        "colab": {
          "base_uri": "https://localhost:8080/",
          "height": 340
        },
        "outputId": "c4b37ab6-f8ba-442e-e3b3-d063384be476"
      },
      "source": [
        "!pip install gTTS"
      ],
      "execution_count": null,
      "outputs": [
        {
          "output_type": "stream",
          "text": [
            "Collecting gTTS\n",
            "  Downloading https://files.pythonhosted.org/packages/a1/0c/4ca77eca3b739a4a08360930643f58d714e302fee0d2f8c654e67d9af8e7/gTTS-2.1.1-py3-none-any.whl\n",
            "Collecting gtts-token>=1.1.3\n",
            "  Downloading https://files.pythonhosted.org/packages/e7/25/ca6e9cd3275bfc3097fe6b06cc31db6d3dfaf32e032e0f73fead9c9a03ce/gTTS-token-1.1.3.tar.gz\n",
            "Requirement already satisfied: six in /usr/local/lib/python3.6/dist-packages (from gTTS) (1.15.0)\n",
            "Requirement already satisfied: beautifulsoup4 in /usr/local/lib/python3.6/dist-packages (from gTTS) (4.6.3)\n",
            "Requirement already satisfied: click in /usr/local/lib/python3.6/dist-packages (from gTTS) (7.1.2)\n",
            "Requirement already satisfied: requests in /usr/local/lib/python3.6/dist-packages (from gTTS) (2.23.0)\n",
            "Requirement already satisfied: idna<3,>=2.5 in /usr/local/lib/python3.6/dist-packages (from requests->gTTS) (2.10)\n",
            "Requirement already satisfied: certifi>=2017.4.17 in /usr/local/lib/python3.6/dist-packages (from requests->gTTS) (2020.6.20)\n",
            "Requirement already satisfied: urllib3!=1.25.0,!=1.25.1,<1.26,>=1.21.1 in /usr/local/lib/python3.6/dist-packages (from requests->gTTS) (1.24.3)\n",
            "Requirement already satisfied: chardet<4,>=3.0.2 in /usr/local/lib/python3.6/dist-packages (from requests->gTTS) (3.0.4)\n",
            "Building wheels for collected packages: gtts-token\n",
            "  Building wheel for gtts-token (setup.py) ... \u001b[?25l\u001b[?25hdone\n",
            "  Created wheel for gtts-token: filename=gTTS_token-1.1.3-cp36-none-any.whl size=4096 sha256=9ad7bbd89f1d213535c7dbd4d6abb17873e26515a6480ec003f8e4dcbbe4d763\n",
            "  Stored in directory: /root/.cache/pip/wheels/dd/11/61/33f7e51bf545e910552b2255eead2a7cd8ef54064b46dceb34\n",
            "Successfully built gtts-token\n",
            "Installing collected packages: gtts-token, gTTS\n",
            "Successfully installed gTTS-2.1.1 gtts-token-1.1.3\n"
          ],
          "name": "stdout"
        }
      ]
    },
    {
      "cell_type": "code",
      "metadata": {
        "id": "WIalISkPGMSP"
      },
      "source": [
        "from gtts import gTTS\n"
      ],
      "execution_count": null,
      "outputs": []
    },
    {
      "cell_type": "markdown",
      "metadata": {
        "id": "D78gjC27HXXx"
      },
      "source": [
        "\n",
        "Método de importação de áudio da classe Display do IPython"
      ]
    },
    {
      "cell_type": "code",
      "metadata": {
        "id": "PoLXuHX-HUhb"
      },
      "source": [
        "from IPython.display import Audio"
      ],
      "execution_count": null,
      "outputs": []
    },
    {
      "cell_type": "markdown",
      "metadata": {
        "id": "m0qksoslHeKs"
      },
      "source": [
        "Seleção do idioma, chamando o método gTTS e passando como parâmetro  o texto e o idioma e salvando em um arquivo de áudio."
      ]
    },
    {
      "cell_type": "code",
      "metadata": {
        "id": "O-BQIKqdHgpf"
      },
      "source": [
        "lang='pt-br'\n",
        "audio = gTTS('Olá', lang=lang, slow=False)\n",
        "audio.save('1.wav')\n",
        "arquivo_audio= '1.wav'"
      ],
      "execution_count": null,
      "outputs": []
    },
    {
      "cell_type": "markdown",
      "metadata": {
        "id": "dx9t7DhRHueY"
      },
      "source": [
        "Execução do áudio"
      ]
    },
    {
      "cell_type": "code",
      "metadata": {
        "id": "SbLt6vC-Hxtp",
        "colab": {
          "base_uri": "https://localhost:8080/",
          "height": 75
        },
        "outputId": "5b7b37d2-0268-43e0-f102-c00ae3bf5fcc"
      },
      "source": [
        "Audio(arquivo_audio, autoplay=True)"
      ],
      "execution_count": null,
      "outputs": [
        {
          "output_type": "execute_result",
          "data": {
            "text/html": [
              "\n",
              "                <audio controls=\"controls\" autoplay=\"autoplay\">\n",
              "                    <source src=\"data:audio/x-wav;base64,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\" type=\"audio/x-wav\" />\n",
              "                    Your browser does not support the audio element.\n",
              "                </audio>\n",
              "              "
            ],
            "text/plain": [
              "<IPython.lib.display.Audio object>"
            ]
          },
          "metadata": {
            "tags": []
          },
          "execution_count": 12
        }
      ]
    }
  ]
}