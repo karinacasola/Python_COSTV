{
  "nbformat": 4,
  "nbformat_minor": 0,
  "metadata": {
    "colab": {
      "name": "primeiro_algoritmo.ipynb",
      "provenance": [],
      "authorship_tag": "ABX9TyOqC7TiKWO4SzQYIFZjF1+L",
      "include_colab_link": true
    },
    "kernelspec": {
      "name": "python3",
      "display_name": "Python 3"
    },
    "language_info": {
      "name": "python"
    }
  },
  "cells": [
    {
      "cell_type": "markdown",
      "metadata": {
        "id": "view-in-github",
        "colab_type": "text"
      },
      "source": [
        "<a href=\"https://colab.research.google.com/github/karinacasola/Python_COSTV/blob/master/primeiro_algoritmo.ipynb\" target=\"_parent\"><img src=\"https://colab.research.google.com/assets/colab-badge.svg\" alt=\"Open In Colab\"/></a>"
      ]
    },
    {
      "cell_type": "code",
      "metadata": {
        "colab": {
          "base_uri": "https://localhost:8080/"
        },
        "id": "AcQP0in7Fe9Q",
        "outputId": "c5b63076-082d-471e-cba3-72f70c796e8f"
      },
      "source": [
        "idade=int(input(\"Digite a idade de seu carro:\"))\n",
        "if idade <=3:\n",
        "  print(\"Seu carro é novo\")\n",
        "else:\n",
        "  print(\"Seu carro é velho:\")  "
      ],
      "execution_count": null,
      "outputs": [
        {
          "output_type": "stream",
          "text": [
            "Digite a idade de seu carro:3\n",
            "Seu carro é novo\n"
          ],
          "name": "stdout"
        }
      ]
    }
  ]
}